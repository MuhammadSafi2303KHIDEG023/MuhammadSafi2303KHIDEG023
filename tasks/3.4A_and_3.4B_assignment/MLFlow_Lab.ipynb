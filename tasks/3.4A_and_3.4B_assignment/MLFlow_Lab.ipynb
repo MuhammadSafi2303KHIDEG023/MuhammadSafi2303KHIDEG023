{
 "cells": [
  {
   "attachments": {},
   "cell_type": "markdown",
   "metadata": {},
   "source": [
    "Name: Muhammad Safi (2303.KHI.DEG.023)\n",
    "\n",
    "Assignment Partner: Huzaifa Ali (2303.KHI.DEG.016)"
   ]
  },
  {
   "cell_type": "code",
   "execution_count": 14,
   "metadata": {},
   "outputs": [
    {
     "name": "stdout",
     "output_type": "stream",
     "text": [
      "/home/muhammadsafi/Desktop/assignment_repo/tasks/mlops-assignment/bin/python\n"
     ]
    }
   ],
   "source": [
    "!python -c \"import sys; print(sys.executable)\"\n"
   ]
  },
  {
   "cell_type": "code",
   "execution_count": 15,
   "metadata": {},
   "outputs": [],
   "source": [
    "import pandas as pd"
   ]
  },
  {
   "cell_type": "code",
   "execution_count": 16,
   "metadata": {},
   "outputs": [
    {
     "data": {
      "text/plain": [
       "'2.0.1'"
      ]
     },
     "execution_count": 16,
     "metadata": {},
     "output_type": "execute_result"
    }
   ],
   "source": [
    "pd.__version__"
   ]
  },
  {
   "attachments": {},
   "cell_type": "markdown",
   "metadata": {},
   "source": [
    "### Setting up MLFlow Tracking Server"
   ]
  },
  {
   "cell_type": "code",
   "execution_count": 17,
   "metadata": {},
   "outputs": [],
   "source": [
    "%%bash --bg\n",
    "\n",
    "mlflow server --host 0.0.0.0 \\\n",
    "    --port 5000 \\\n",
    "    --backend-store-uri sqlite:///mlflow.db \\\n",
    "    --default-artifact-root ./mlruns"
   ]
  },
  {
   "attachments": {},
   "cell_type": "markdown",
   "metadata": {},
   "source": [
    "### Project File"
   ]
  },
  {
   "cell_type": "code",
   "execution_count": 18,
   "metadata": {},
   "outputs": [
    {
     "name": "stdout",
     "output_type": "stream",
     "text": [
      "name: basic_mlflow\n",
      "\n",
      "# this file is used to configure Python package dependencies.\n",
      "# it uses Anaconda, but it can be also alternatively configured to use pip.\n",
      "conda_env: conda.yaml\n",
      "\n",
      "# entry points can be ran using `mlflow run <project_name> -e <entry_point_name>\n",
      "entry_points:\n",
      "  # download_data:\n",
      "  #   # you can run any command using MLFlow\n",
      "  #   command: \"bash download_data.sh\"\n",
      "  # MLproject file has to have main entry_point. It can be toggled without using -e option.\n",
      "  main:\n",
      "    # parameters is a key-value collection.\n",
      "    parameters:\n",
      "      file_name:\n",
      "        type: str\n",
      "        default: \"wine.csv\"\n",
      "      max_k:\n",
      "        type: int\n",
      "        default: 10\n",
      "    command: \"python train_new.py {file_name} {max_k}\""
     ]
    }
   ],
   "source": [
    "%cat MLproject\n",
    "\n"
   ]
  },
  {
   "attachments": {},
   "cell_type": "markdown",
   "metadata": {},
   "source": [
    "### Training"
   ]
  },
  {
   "cell_type": "code",
   "execution_count": 19,
   "metadata": {},
   "outputs": [],
   "source": [
    "import sklearn\n",
    "from sklearn import datasets\n"
   ]
  },
  {
   "cell_type": "code",
   "execution_count": 20,
   "metadata": {},
   "outputs": [
    {
     "data": {
      "text/plain": [
       "'1.2.2'"
      ]
     },
     "execution_count": 20,
     "metadata": {},
     "output_type": "execute_result"
    }
   ],
   "source": [
    "sklearn.__version__"
   ]
  },
  {
   "cell_type": "code",
   "execution_count": 21,
   "metadata": {},
   "outputs": [
    {
     "name": "stderr",
     "output_type": "stream",
     "text": [
      "2023/05/04 16:05:42 INFO mlflow.utils.conda: Conda environment mlflow-06da0cf272d5df6bef864f6179e2bdc8b537d6de already exists.\n",
      "2023/05/04 16:05:42 INFO mlflow.projects.utils: === Created directory /tmp/tmpggdhs31q for downloading remote URIs passed to arguments of type 'path' ===\n",
      "2023/05/04 16:05:42 INFO mlflow.projects.backend.local: === Running command 'source /home/muhammadsafi/anaconda3/bin/../etc/profile.d/conda.sh && conda activate mlflow-06da0cf272d5df6bef864f6179e2bdc8b537d6de 1>&2 && python train_new.py wine.csv 10' in run with ID '0eb1bb9ab8ff460d845f0bbc22650655' === \n",
      "Registered model 'sklearn_classification_assignment' already exists. Creating a new version of this model...\n",
      "2023/05/04 16:05:45 INFO mlflow.tracking._model_registry.client: Waiting up to 300 seconds for model version to finish creation. Model name: sklearn_classification_assignment, version 118\n",
      "Created version '118' of model 'sklearn_classification_assignment'.\n",
      "Registered model 'sklearn_classification_assignment' already exists. Creating a new version of this model...\n",
      "2023/05/04 16:05:47 INFO mlflow.tracking._model_registry.client: Waiting up to 300 seconds for model version to finish creation. Model name: sklearn_classification_assignment, version 119\n",
      "Created version '119' of model 'sklearn_classification_assignment'.\n",
      "Registered model 'sklearn_classification_assignment' already exists. Creating a new version of this model...\n",
      "2023/05/04 16:05:48 INFO mlflow.tracking._model_registry.client: Waiting up to 300 seconds for model version to finish creation. Model name: sklearn_classification_assignment, version 120\n",
      "Created version '120' of model 'sklearn_classification_assignment'.\n",
      "Registered model 'sklearn_classification_assignment' already exists. Creating a new version of this model...\n",
      "2023/05/04 16:05:49 INFO mlflow.tracking._model_registry.client: Waiting up to 300 seconds for model version to finish creation. Model name: sklearn_classification_assignment, version 121\n",
      "Created version '121' of model 'sklearn_classification_assignment'.\n",
      "Registered model 'sklearn_classification_assignment' already exists. Creating a new version of this model...\n",
      "2023/05/04 16:05:51 INFO mlflow.tracking._model_registry.client: Waiting up to 300 seconds for model version to finish creation. Model name: sklearn_classification_assignment, version 122\n",
      "Created version '122' of model 'sklearn_classification_assignment'.\n",
      "Registered model 'sklearn_classification_assignment' already exists. Creating a new version of this model...\n",
      "2023/05/04 16:05:52 INFO mlflow.tracking._model_registry.client: Waiting up to 300 seconds for model version to finish creation. Model name: sklearn_classification_assignment, version 123\n",
      "Created version '123' of model 'sklearn_classification_assignment'.\n",
      "Registered model 'sklearn_classification_assignment' already exists. Creating a new version of this model...\n",
      "2023/05/04 16:05:54 INFO mlflow.tracking._model_registry.client: Waiting up to 300 seconds for model version to finish creation. Model name: sklearn_classification_assignment, version 124\n",
      "Created version '124' of model 'sklearn_classification_assignment'.\n",
      "Registered model 'sklearn_classification_assignment' already exists. Creating a new version of this model...\n",
      "2023/05/04 16:05:55 INFO mlflow.tracking._model_registry.client: Waiting up to 300 seconds for model version to finish creation. Model name: sklearn_classification_assignment, version 125\n",
      "Created version '125' of model 'sklearn_classification_assignment'.\n",
      "Registered model 'sklearn_classification_assignment' already exists. Creating a new version of this model...\n",
      "2023/05/04 16:05:56 INFO mlflow.tracking._model_registry.client: Waiting up to 300 seconds for model version to finish creation. Model name: sklearn_classification_assignment, version 126\n",
      "Created version '126' of model 'sklearn_classification_assignment'.\n",
      "2023/05/04 16:05:57 INFO mlflow.projects: === Run (ID '0eb1bb9ab8ff460d845f0bbc22650655') succeeded ===\n"
     ]
    }
   ],
   "source": [
    "%%bash\n",
    "source mlflow_env_vars.sh\n",
    "mlflow run . \n"
   ]
  },
  {
   "attachments": {},
   "cell_type": "markdown",
   "metadata": {},
   "source": [
    "### Inspecting Stored Models"
   ]
  },
  {
   "cell_type": "code",
   "execution_count": 10,
   "metadata": {},
   "outputs": [
    {
     "name": "stderr",
     "output_type": "stream",
     "text": [
      "ls: cannot access 'mlruns/0/': No such file or directory\n",
      "cat: mlruns/0//artifacts/logisticRegression/MLmodel: No such file or directory\n"
     ]
    },
    {
     "ename": "CalledProcessError",
     "evalue": "Command 'b'last_model_path=$(ls -tr mlruns/0/ | tail -1)\\ncat mlruns/0/$last_model_path/artifacts/logisticRegression/MLmodel\\n'' returned non-zero exit status 1.",
     "output_type": "error",
     "traceback": [
      "\u001b[0;31m---------------------------------------------------------------------------\u001b[0m",
      "\u001b[0;31mCalledProcessError\u001b[0m                        Traceback (most recent call last)",
      "Cell \u001b[0;32mIn[10], line 1\u001b[0m\n\u001b[0;32m----> 1\u001b[0m get_ipython()\u001b[39m.\u001b[39;49mrun_cell_magic(\u001b[39m'\u001b[39;49m\u001b[39mbash\u001b[39;49m\u001b[39m'\u001b[39;49m, \u001b[39m'\u001b[39;49m\u001b[39m'\u001b[39;49m, \u001b[39m'\u001b[39;49m\u001b[39mlast_model_path=$(ls -tr mlruns/0/ | tail -1)\u001b[39;49m\u001b[39m\\n\u001b[39;49;00m\u001b[39mcat mlruns/0/$last_model_path/artifacts/logisticRegression/MLmodel\u001b[39;49m\u001b[39m\\n\u001b[39;49;00m\u001b[39m'\u001b[39;49m)\n",
      "File \u001b[0;32m~/Desktop/assignment_repo/tasks/mlops-assignment/lib/python3.10/site-packages/IPython/core/interactiveshell.py:2478\u001b[0m, in \u001b[0;36mInteractiveShell.run_cell_magic\u001b[0;34m(self, magic_name, line, cell)\u001b[0m\n\u001b[1;32m   2476\u001b[0m \u001b[39mwith\u001b[39;00m \u001b[39mself\u001b[39m\u001b[39m.\u001b[39mbuiltin_trap:\n\u001b[1;32m   2477\u001b[0m     args \u001b[39m=\u001b[39m (magic_arg_s, cell)\n\u001b[0;32m-> 2478\u001b[0m     result \u001b[39m=\u001b[39m fn(\u001b[39m*\u001b[39;49margs, \u001b[39m*\u001b[39;49m\u001b[39m*\u001b[39;49mkwargs)\n\u001b[1;32m   2480\u001b[0m \u001b[39m# The code below prevents the output from being displayed\u001b[39;00m\n\u001b[1;32m   2481\u001b[0m \u001b[39m# when using magics with decodator @output_can_be_silenced\u001b[39;00m\n\u001b[1;32m   2482\u001b[0m \u001b[39m# when the last Python token in the expression is a ';'.\u001b[39;00m\n\u001b[1;32m   2483\u001b[0m \u001b[39mif\u001b[39;00m \u001b[39mgetattr\u001b[39m(fn, magic\u001b[39m.\u001b[39mMAGIC_OUTPUT_CAN_BE_SILENCED, \u001b[39mFalse\u001b[39;00m):\n",
      "File \u001b[0;32m~/Desktop/assignment_repo/tasks/mlops-assignment/lib/python3.10/site-packages/IPython/core/magics/script.py:154\u001b[0m, in \u001b[0;36mScriptMagics._make_script_magic.<locals>.named_script_magic\u001b[0;34m(line, cell)\u001b[0m\n\u001b[1;32m    152\u001b[0m \u001b[39melse\u001b[39;00m:\n\u001b[1;32m    153\u001b[0m     line \u001b[39m=\u001b[39m script\n\u001b[0;32m--> 154\u001b[0m \u001b[39mreturn\u001b[39;00m \u001b[39mself\u001b[39;49m\u001b[39m.\u001b[39;49mshebang(line, cell)\n",
      "File \u001b[0;32m~/Desktop/assignment_repo/tasks/mlops-assignment/lib/python3.10/site-packages/IPython/core/magics/script.py:314\u001b[0m, in \u001b[0;36mScriptMagics.shebang\u001b[0;34m(self, line, cell)\u001b[0m\n\u001b[1;32m    309\u001b[0m \u001b[39mif\u001b[39;00m args\u001b[39m.\u001b[39mraise_error \u001b[39mand\u001b[39;00m p\u001b[39m.\u001b[39mreturncode \u001b[39m!=\u001b[39m \u001b[39m0\u001b[39m:\n\u001b[1;32m    310\u001b[0m     \u001b[39m# If we get here and p.returncode is still None, we must have\u001b[39;00m\n\u001b[1;32m    311\u001b[0m     \u001b[39m# killed it but not yet seen its return code. We don't wait for it,\u001b[39;00m\n\u001b[1;32m    312\u001b[0m     \u001b[39m# in case it's stuck in uninterruptible sleep. -9 = SIGKILL\u001b[39;00m\n\u001b[1;32m    313\u001b[0m     rc \u001b[39m=\u001b[39m p\u001b[39m.\u001b[39mreturncode \u001b[39mor\u001b[39;00m \u001b[39m-\u001b[39m\u001b[39m9\u001b[39m\n\u001b[0;32m--> 314\u001b[0m     \u001b[39mraise\u001b[39;00m CalledProcessError(rc, cell)\n",
      "\u001b[0;31mCalledProcessError\u001b[0m: Command 'b'last_model_path=$(ls -tr mlruns/0/ | tail -1)\\ncat mlruns/0/$last_model_path/artifacts/logisticRegression/MLmodel\\n'' returned non-zero exit status 1."
     ]
    }
   ],
   "source": [
    "%%bash\n",
    "last_model_path=$(ls -tr mlruns/0/ | tail -1)\n",
    "cat mlruns/0/$last_model_path/artifacts/logisticRegression/MLmodel\n"
   ]
  },
  {
   "attachments": {},
   "cell_type": "markdown",
   "metadata": {},
   "source": [
    "### Serving model\n"
   ]
  },
  {
   "cell_type": "code",
   "execution_count": 10,
   "metadata": {},
   "outputs": [
    {
     "name": "stdout",
     "output_type": "stream",
     "text": [
      "mlflow, version 2.3.1\n"
     ]
    },
    {
     "name": "stderr",
     "output_type": "stream",
     "text": [
      "/home/muhammadsafi/Desktop/assignment_repo/tasks/mlops-assignment/lib/python3.10/site-packages/click/core.py:2322: UserWarning: Use of conda is discouraged. If you use it, please ensure that your use of conda complies with Anaconda's terms of service (https://legal.anaconda.com/policies/en/?name=terms-of-service). virtualenv is the recommended tool for environment reproducibility. To suppress this warning, set the MLFLOW_DISABLE_ENV_MANAGER_CONDA_WARNING (default: False, type: bool) environment variable to 'TRUE'.\n",
      "  value = self.callback(ctx, self, value)\n",
      "Traceback (most recent call last):\n",
      "  File \"/home/muhammadsafi/Desktop/assignment_repo/tasks/mlops-assignment/bin/mlflow\", line 8, in <module>\n",
      "    sys.exit(cli())\n",
      "  File \"/home/muhammadsafi/Desktop/assignment_repo/tasks/mlops-assignment/lib/python3.10/site-packages/click/core.py\", line 1130, in __call__\n",
      "    return self.main(*args, **kwargs)\n",
      "  File \"/home/muhammadsafi/Desktop/assignment_repo/tasks/mlops-assignment/lib/python3.10/site-packages/click/core.py\", line 1055, in main\n",
      "    rv = self.invoke(ctx)\n",
      "  File \"/home/muhammadsafi/Desktop/assignment_repo/tasks/mlops-assignment/lib/python3.10/site-packages/click/core.py\", line 1657, in invoke\n",
      "    return _process_result(sub_ctx.command.invoke(sub_ctx))\n",
      "  File \"/home/muhammadsafi/Desktop/assignment_repo/tasks/mlops-assignment/lib/python3.10/site-packages/click/core.py\", line 1657, in invoke\n",
      "    return _process_result(sub_ctx.command.invoke(sub_ctx))\n",
      "  File \"/home/muhammadsafi/Desktop/assignment_repo/tasks/mlops-assignment/lib/python3.10/site-packages/click/core.py\", line 1404, in invoke\n",
      "    return ctx.invoke(self.callback, **ctx.params)\n",
      "  File \"/home/muhammadsafi/Desktop/assignment_repo/tasks/mlops-assignment/lib/python3.10/site-packages/click/core.py\", line 760, in invoke\n",
      "    return __callback(*args, **kwargs)\n",
      "  File \"/home/muhammadsafi/Desktop/assignment_repo/tasks/mlops-assignment/lib/python3.10/site-packages/mlflow/models/cli.py\", line 105, in serve\n",
      "    return get_flavor_backend(\n",
      "  File \"/home/muhammadsafi/Desktop/assignment_repo/tasks/mlops-assignment/lib/python3.10/site-packages/mlflow/models/flavor_backend_registry.py\", line 45, in get_flavor_backend\n",
      "    local_path = _download_artifact_from_uri(\n",
      "  File \"/home/muhammadsafi/Desktop/assignment_repo/tasks/mlops-assignment/lib/python3.10/site-packages/mlflow/tracking/artifact_utils.py\", line 100, in _download_artifact_from_uri\n",
      "    return get_artifact_repository(artifact_uri=root_uri).download_artifacts(\n",
      "  File \"/home/muhammadsafi/Desktop/assignment_repo/tasks/mlops-assignment/lib/python3.10/site-packages/mlflow/store/artifact/local_artifact_repo.py\", line 74, in download_artifacts\n",
      "    return super().download_artifacts(artifact_path, dst_path)\n",
      "  File \"/home/muhammadsafi/Desktop/assignment_repo/tasks/mlops-assignment/lib/python3.10/site-packages/mlflow/store/artifact/artifact_repo.py\", line 268, in download_artifacts\n",
      "    raise MlflowException(\n",
      "mlflow.exceptions.MlflowException: The following failures occurred while downloading one or more artifacts from /home/muhammadsafi/Desktop/assignment_repo/tasks/3.4A_assignment/mlruns/0/1d32bd3536f345ffbafc348ab45fa0d8/artifacts/forest: {'MLmodel': \"FileNotFoundError(2, 'No such file or directory')\"}\n"
     ]
    },
    {
     "ename": "CalledProcessError",
     "evalue": "Command 'b'source mlflow_env_vars.sh\\nmlflow --version\\nmlflow models serve -m models:/sklearn_classification_assignment/Production -p 5001 --env-manager=conda \\n'' returned non-zero exit status 1.",
     "output_type": "error",
     "traceback": [
      "\u001b[0;31m---------------------------------------------------------------------------\u001b[0m",
      "\u001b[0;31mCalledProcessError\u001b[0m                        Traceback (most recent call last)",
      "Cell \u001b[0;32mIn[10], line 1\u001b[0m\n\u001b[0;32m----> 1\u001b[0m get_ipython()\u001b[39m.\u001b[39;49mrun_cell_magic(\u001b[39m'\u001b[39;49m\u001b[39mbash\u001b[39;49m\u001b[39m'\u001b[39;49m, \u001b[39m'\u001b[39;49m\u001b[39m'\u001b[39;49m, \u001b[39m'\u001b[39;49m\u001b[39msource mlflow_env_vars.sh\u001b[39;49m\u001b[39m\\n\u001b[39;49;00m\u001b[39mmlflow --version\u001b[39;49m\u001b[39m\\n\u001b[39;49;00m\u001b[39mmlflow models serve -m models:/sklearn_classification_assignment/Production -p 5001 --env-manager=conda \u001b[39;49m\u001b[39m\\n\u001b[39;49;00m\u001b[39m'\u001b[39;49m)\n",
      "File \u001b[0;32m~/Desktop/assignment_repo/tasks/mlops-assignment/lib/python3.10/site-packages/IPython/core/interactiveshell.py:2478\u001b[0m, in \u001b[0;36mInteractiveShell.run_cell_magic\u001b[0;34m(self, magic_name, line, cell)\u001b[0m\n\u001b[1;32m   2476\u001b[0m \u001b[39mwith\u001b[39;00m \u001b[39mself\u001b[39m\u001b[39m.\u001b[39mbuiltin_trap:\n\u001b[1;32m   2477\u001b[0m     args \u001b[39m=\u001b[39m (magic_arg_s, cell)\n\u001b[0;32m-> 2478\u001b[0m     result \u001b[39m=\u001b[39m fn(\u001b[39m*\u001b[39;49margs, \u001b[39m*\u001b[39;49m\u001b[39m*\u001b[39;49mkwargs)\n\u001b[1;32m   2480\u001b[0m \u001b[39m# The code below prevents the output from being displayed\u001b[39;00m\n\u001b[1;32m   2481\u001b[0m \u001b[39m# when using magics with decodator @output_can_be_silenced\u001b[39;00m\n\u001b[1;32m   2482\u001b[0m \u001b[39m# when the last Python token in the expression is a ';'.\u001b[39;00m\n\u001b[1;32m   2483\u001b[0m \u001b[39mif\u001b[39;00m \u001b[39mgetattr\u001b[39m(fn, magic\u001b[39m.\u001b[39mMAGIC_OUTPUT_CAN_BE_SILENCED, \u001b[39mFalse\u001b[39;00m):\n",
      "File \u001b[0;32m~/Desktop/assignment_repo/tasks/mlops-assignment/lib/python3.10/site-packages/IPython/core/magics/script.py:154\u001b[0m, in \u001b[0;36mScriptMagics._make_script_magic.<locals>.named_script_magic\u001b[0;34m(line, cell)\u001b[0m\n\u001b[1;32m    152\u001b[0m \u001b[39melse\u001b[39;00m:\n\u001b[1;32m    153\u001b[0m     line \u001b[39m=\u001b[39m script\n\u001b[0;32m--> 154\u001b[0m \u001b[39mreturn\u001b[39;00m \u001b[39mself\u001b[39;49m\u001b[39m.\u001b[39;49mshebang(line, cell)\n",
      "File \u001b[0;32m~/Desktop/assignment_repo/tasks/mlops-assignment/lib/python3.10/site-packages/IPython/core/magics/script.py:314\u001b[0m, in \u001b[0;36mScriptMagics.shebang\u001b[0;34m(self, line, cell)\u001b[0m\n\u001b[1;32m    309\u001b[0m \u001b[39mif\u001b[39;00m args\u001b[39m.\u001b[39mraise_error \u001b[39mand\u001b[39;00m p\u001b[39m.\u001b[39mreturncode \u001b[39m!=\u001b[39m \u001b[39m0\u001b[39m:\n\u001b[1;32m    310\u001b[0m     \u001b[39m# If we get here and p.returncode is still None, we must have\u001b[39;00m\n\u001b[1;32m    311\u001b[0m     \u001b[39m# killed it but not yet seen its return code. We don't wait for it,\u001b[39;00m\n\u001b[1;32m    312\u001b[0m     \u001b[39m# in case it's stuck in uninterruptible sleep. -9 = SIGKILL\u001b[39;00m\n\u001b[1;32m    313\u001b[0m     rc \u001b[39m=\u001b[39m p\u001b[39m.\u001b[39mreturncode \u001b[39mor\u001b[39;00m \u001b[39m-\u001b[39m\u001b[39m9\u001b[39m\n\u001b[0;32m--> 314\u001b[0m     \u001b[39mraise\u001b[39;00m CalledProcessError(rc, cell)\n",
      "\u001b[0;31mCalledProcessError\u001b[0m: Command 'b'source mlflow_env_vars.sh\\nmlflow --version\\nmlflow models serve -m models:/sklearn_classification_assignment/Production -p 5001 --env-manager=conda \\n'' returned non-zero exit status 1."
     ]
    }
   ],
   "source": [
    "%%bash \n",
    "source mlflow_env_vars.sh\n",
    "mlflow --version\n",
    "mlflow models serve -m models:/sklearn_classification_assignment/Production -p 5001 --env-manager=conda "
   ]
  },
  {
   "attachments": {},
   "cell_type": "markdown",
   "metadata": {},
   "source": [
    "### Prediction"
   ]
  },
  {
   "cell_type": "code",
   "execution_count": 39,
   "metadata": {},
   "outputs": [
    {
     "name": "stdout",
     "output_type": "stream",
     "text": [
      "   mean radius  mean texture\n",
      "0        17.99         10.38\n",
      "1        20.57         17.77\n",
      "2        19.69         21.25\n",
      "3        11.42         20.38\n",
      "4        20.29         14.34\n"
     ]
    }
   ],
   "source": [
    "cancer_df=datasets.load_breast_cancer()\n",
    "df = pd.DataFrame(data=cancer_df.data, columns=cancer_df.feature_names)\n",
    "print(df.iloc[:,:2].head())\n",
    "\n",
    "\n",
    "\n"
   ]
  },
  {
   "cell_type": "code",
   "execution_count": 45,
   "metadata": {},
   "outputs": [
    {
     "name": "stdout",
     "output_type": "stream",
     "text": [
      "[[17.99, 10.38], [20.57, 17.77], [19.69, 21.25], [11.42, 20.38], [20.29, 14.34], [12.45, 15.7], [18.25, 19.98], [13.71, 20.83], [13.0, 21.82], [12.46, 24.04], [16.02, 23.24], [15.78, 17.89], [19.17, 24.8], [15.85, 23.95], [13.73, 22.61], [14.54, 27.54], [14.68, 20.13], [16.13, 20.68], [19.81, 22.15], [13.54, 14.36], [13.08, 15.71], [9.504, 12.44], [15.34, 14.26], [21.16, 23.04], [16.65, 21.38], [17.14, 16.4], [14.58, 21.53], [18.61, 20.25], [15.3, 25.27], [17.57, 15.05], [18.63, 25.11], [11.84, 18.7]] check\n"
     ]
    },
    {
     "name": "stderr",
     "output_type": "stream",
     "text": [
      "  % Total    % Received % Xferd  Average Speed   Time    Time     Time  Current\n",
      "                                 Dload  Upload   Total   Spent    Left  Speed\n",
      "  0     0    0     0    0     0      0      0 --:--:-- --:--:-- --:--:--     0\n",
      "curl: (7) Failed to connect to 127.0.0.1 port 5001 after 0 ms: Couldn't connect to server\n"
     ]
    },
    {
     "ename": "CalledProcessError",
     "evalue": "Command 'b'data=\\'[[17.99, 10.38], [20.57, 17.77], [19.69, 21.25], [11.42, 20.38], [20.29, 14.34], [12.45, 15.7], [18.25, 19.98], [13.71, 20.83], [13.0, 21.82], [12.46, 24.04], [16.02, 23.24], [15.78, 17.89], [19.17, 24.8], [15.85, 23.95], [13.73, 22.61], [14.54, 27.54], [14.68, 20.13], [16.13, 20.68], [19.81, 22.15], [13.54, 14.36], [13.08, 15.71], [9.504, 12.44], [15.34, 14.26], [21.16, 23.04], [16.65, 21.38], [17.14, 16.4], [14.58, 21.53], [18.61, 20.25], [15.3, 25.27], [17.57, 15.05], [18.63, 25.11], [11.84, 18.7]]\\'\\necho $data \"check\"\\n\\ncurl -d \"{\\\\\"inputs\\\\\": $data}\" -H \\'Content-Type: application/json\\' 127.0.0.1:5001/invocations \\n'' returned non-zero exit status 7.",
     "output_type": "error",
     "traceback": [
      "\u001b[0;31m---------------------------------------------------------------------------\u001b[0m",
      "\u001b[0;31mCalledProcessError\u001b[0m                        Traceback (most recent call last)",
      "Cell \u001b[0;32mIn[45], line 1\u001b[0m\n\u001b[0;32m----> 1\u001b[0m get_ipython()\u001b[39m.\u001b[39;49mrun_cell_magic(\u001b[39m'\u001b[39;49m\u001b[39mbash\u001b[39;49m\u001b[39m'\u001b[39;49m, \u001b[39m'\u001b[39;49m\u001b[39m'\u001b[39;49m, \u001b[39m'\u001b[39;49m\u001b[39mdata=\u001b[39;49m\u001b[39m\\'\u001b[39;49;00m\u001b[39m[[17.99, 10.38], [20.57, 17.77], [19.69, 21.25], [11.42, 20.38], [20.29, 14.34], [12.45, 15.7], [18.25, 19.98], [13.71, 20.83], [13.0, 21.82], [12.46, 24.04], [16.02, 23.24], [15.78, 17.89], [19.17, 24.8], [15.85, 23.95], [13.73, 22.61], [14.54, 27.54], [14.68, 20.13], [16.13, 20.68], [19.81, 22.15], [13.54, 14.36], [13.08, 15.71], [9.504, 12.44], [15.34, 14.26], [21.16, 23.04], [16.65, 21.38], [17.14, 16.4], [14.58, 21.53], [18.61, 20.25], [15.3, 25.27], [17.57, 15.05], [18.63, 25.11], [11.84, 18.7]]\u001b[39;49m\u001b[39m\\'\u001b[39;49;00m\u001b[39m\\n\u001b[39;49;00m\u001b[39mecho $data \u001b[39;49m\u001b[39m\"\u001b[39;49m\u001b[39mcheck\u001b[39;49m\u001b[39m\"\u001b[39;49m\u001b[39m\\n\u001b[39;49;00m\u001b[39m\\n\u001b[39;49;00m\u001b[39mcurl -d \u001b[39;49m\u001b[39m\"\u001b[39;49m\u001b[39m{\u001b[39;49m\u001b[39m\\\\\u001b[39;49;00m\u001b[39m\"\u001b[39;49m\u001b[39minputs\u001b[39;49m\u001b[39m\\\\\u001b[39;49;00m\u001b[39m\"\u001b[39;49m\u001b[39m: $data}\u001b[39;49m\u001b[39m\"\u001b[39;49m\u001b[39m -H \u001b[39;49m\u001b[39m\\'\u001b[39;49;00m\u001b[39mContent-Type: application/json\u001b[39;49m\u001b[39m\\'\u001b[39;49;00m\u001b[39m 127.0.0.1:5001/invocations \u001b[39;49m\u001b[39m\\n\u001b[39;49;00m\u001b[39m'\u001b[39;49m)\n",
      "File \u001b[0;32m~/Desktop/assignment_repo/tasks/mlops-assignment/lib/python3.10/site-packages/IPython/core/interactiveshell.py:2478\u001b[0m, in \u001b[0;36mInteractiveShell.run_cell_magic\u001b[0;34m(self, magic_name, line, cell)\u001b[0m\n\u001b[1;32m   2476\u001b[0m \u001b[39mwith\u001b[39;00m \u001b[39mself\u001b[39m\u001b[39m.\u001b[39mbuiltin_trap:\n\u001b[1;32m   2477\u001b[0m     args \u001b[39m=\u001b[39m (magic_arg_s, cell)\n\u001b[0;32m-> 2478\u001b[0m     result \u001b[39m=\u001b[39m fn(\u001b[39m*\u001b[39;49margs, \u001b[39m*\u001b[39;49m\u001b[39m*\u001b[39;49mkwargs)\n\u001b[1;32m   2480\u001b[0m \u001b[39m# The code below prevents the output from being displayed\u001b[39;00m\n\u001b[1;32m   2481\u001b[0m \u001b[39m# when using magics with decodator @output_can_be_silenced\u001b[39;00m\n\u001b[1;32m   2482\u001b[0m \u001b[39m# when the last Python token in the expression is a ';'.\u001b[39;00m\n\u001b[1;32m   2483\u001b[0m \u001b[39mif\u001b[39;00m \u001b[39mgetattr\u001b[39m(fn, magic\u001b[39m.\u001b[39mMAGIC_OUTPUT_CAN_BE_SILENCED, \u001b[39mFalse\u001b[39;00m):\n",
      "File \u001b[0;32m~/Desktop/assignment_repo/tasks/mlops-assignment/lib/python3.10/site-packages/IPython/core/magics/script.py:154\u001b[0m, in \u001b[0;36mScriptMagics._make_script_magic.<locals>.named_script_magic\u001b[0;34m(line, cell)\u001b[0m\n\u001b[1;32m    152\u001b[0m \u001b[39melse\u001b[39;00m:\n\u001b[1;32m    153\u001b[0m     line \u001b[39m=\u001b[39m script\n\u001b[0;32m--> 154\u001b[0m \u001b[39mreturn\u001b[39;00m \u001b[39mself\u001b[39;49m\u001b[39m.\u001b[39;49mshebang(line, cell)\n",
      "File \u001b[0;32m~/Desktop/assignment_repo/tasks/mlops-assignment/lib/python3.10/site-packages/IPython/core/magics/script.py:314\u001b[0m, in \u001b[0;36mScriptMagics.shebang\u001b[0;34m(self, line, cell)\u001b[0m\n\u001b[1;32m    309\u001b[0m \u001b[39mif\u001b[39;00m args\u001b[39m.\u001b[39mraise_error \u001b[39mand\u001b[39;00m p\u001b[39m.\u001b[39mreturncode \u001b[39m!=\u001b[39m \u001b[39m0\u001b[39m:\n\u001b[1;32m    310\u001b[0m     \u001b[39m# If we get here and p.returncode is still None, we must have\u001b[39;00m\n\u001b[1;32m    311\u001b[0m     \u001b[39m# killed it but not yet seen its return code. We don't wait for it,\u001b[39;00m\n\u001b[1;32m    312\u001b[0m     \u001b[39m# in case it's stuck in uninterruptible sleep. -9 = SIGKILL\u001b[39;00m\n\u001b[1;32m    313\u001b[0m     rc \u001b[39m=\u001b[39m p\u001b[39m.\u001b[39mreturncode \u001b[39mor\u001b[39;00m \u001b[39m-\u001b[39m\u001b[39m9\u001b[39m\n\u001b[0;32m--> 314\u001b[0m     \u001b[39mraise\u001b[39;00m CalledProcessError(rc, cell)\n",
      "\u001b[0;31mCalledProcessError\u001b[0m: Command 'b'data=\\'[[17.99, 10.38], [20.57, 17.77], [19.69, 21.25], [11.42, 20.38], [20.29, 14.34], [12.45, 15.7], [18.25, 19.98], [13.71, 20.83], [13.0, 21.82], [12.46, 24.04], [16.02, 23.24], [15.78, 17.89], [19.17, 24.8], [15.85, 23.95], [13.73, 22.61], [14.54, 27.54], [14.68, 20.13], [16.13, 20.68], [19.81, 22.15], [13.54, 14.36], [13.08, 15.71], [9.504, 12.44], [15.34, 14.26], [21.16, 23.04], [16.65, 21.38], [17.14, 16.4], [14.58, 21.53], [18.61, 20.25], [15.3, 25.27], [17.57, 15.05], [18.63, 25.11], [11.84, 18.7]]\\'\\necho $data \"check\"\\n\\ncurl -d \"{\\\\\"inputs\\\\\": $data}\" -H \\'Content-Type: application/json\\' 127.0.0.1:5001/invocations \\n'' returned non-zero exit status 7."
     ]
    }
   ],
   "source": [
    "%%bash\n",
    "data='[[17.99, 10.38], [20.57, 17.77], [19.69, 21.25], [11.42, 20.38], [20.29, 14.34], [12.45, 15.7], [18.25, 19.98], [13.71, 20.83], [13.0, 21.82], [12.46, 24.04], [16.02, 23.24], [15.78, 17.89], [19.17, 24.8], [15.85, 23.95], [13.73, 22.61], [14.54, 27.54], [14.68, 20.13], [16.13, 20.68], [19.81, 22.15], [13.54, 14.36], [13.08, 15.71], [9.504, 12.44], [15.34, 14.26], [21.16, 23.04], [16.65, 21.38], [17.14, 16.4], [14.58, 21.53], [18.61, 20.25], [15.3, 25.27], [17.57, 15.05], [18.63, 25.11], [11.84, 18.7]]'\n",
    "echo $data \"check\"\n",
    "\n",
    "curl -d \"{\\\"inputs\\\": $data}\" -H 'Content-Type: application/json' 127.0.0.1:5001/invocations \n"
   ]
  },
  {
   "cell_type": "code",
   "execution_count": 42,
   "metadata": {},
   "outputs": [
    {
     "name": "stdout",
     "output_type": "stream",
     "text": [
      "[[17.99, 10.38], [20.57, 17.77], [19.69, 21.25], [11.42, 20.38], [20.29, 14.34], [12.45, 15.7], [18.25, 19.98], [13.71, 20.83], [13.0, 21.82], [12.46, 24.04], [16.02, 23.24], [15.78, 17.89], [19.17, 24.8], [15.85, 23.95], [13.73, 22.61], [14.54, 27.54], [14.68, 20.13], [16.13, 20.68], [19.81, 22.15], [13.54, 14.36], [13.08, 15.71], [9.504, 12.44], [15.34, 14.26], [21.16, 23.04], [16.65, 21.38], [17.14, 16.4], [14.58, 21.53], [18.61, 20.25], [15.3, 25.27], [17.57, 15.05], [18.63, 25.11], [11.84, 18.7]]\n"
     ]
    },
    {
     "name": "stderr",
     "output_type": "stream",
     "text": [
      "  % Total    % Received % Xferd  Average Speed   Time    Time     Time  Current\n",
      "                                 Dload  Upload   Total   Spent    Left  Speed\n",
      "  0     0    0     0    0     0      0      0 --:--:-- --:--:-- --:--:--     0\n",
      "curl: (7) Failed to connect to 127.0.0.1 port 5001 after 0 ms: Couldn't connect to server\n"
     ]
    },
    {
     "ename": "CalledProcessError",
     "evalue": "Command 'b'data=\\'[[17.99, 10.38], [20.57, 17.77], [19.69, 21.25], [11.42, 20.38], [20.29, 14.34], [12.45, 15.7], [18.25, 19.98], [13.71, 20.83], [13.0, 21.82], [12.46, 24.04], [16.02, 23.24], [15.78, 17.89], [19.17, 24.8], [15.85, 23.95], [13.73, 22.61], [14.54, 27.54], [14.68, 20.13], [16.13, 20.68], [19.81, 22.15], [13.54, 14.36], [13.08, 15.71], [9.504, 12.44], [15.34, 14.26], [21.16, 23.04], [16.65, 21.38], [17.14, 16.4], [14.58, 21.53], [18.61, 20.25], [15.3, 25.27], [17.57, 15.05], [18.63, 25.11], [11.84, 18.7]]\\'\\necho $data\\n\\ncurl -d \"{\\\\\"instances\\\\\": $data}\" -H \\'Content-Type: application/json\\' 127.0.0.1:5001/invocations\\n'' returned non-zero exit status 7.",
     "output_type": "error",
     "traceback": [
      "\u001b[0;31m---------------------------------------------------------------------------\u001b[0m",
      "\u001b[0;31mCalledProcessError\u001b[0m                        Traceback (most recent call last)",
      "Cell \u001b[0;32mIn[42], line 1\u001b[0m\n\u001b[0;32m----> 1\u001b[0m get_ipython()\u001b[39m.\u001b[39;49mrun_cell_magic(\u001b[39m'\u001b[39;49m\u001b[39mbash\u001b[39;49m\u001b[39m'\u001b[39;49m, \u001b[39m'\u001b[39;49m\u001b[39m'\u001b[39;49m, \u001b[39m'\u001b[39;49m\u001b[39mdata=\u001b[39;49m\u001b[39m\\'\u001b[39;49;00m\u001b[39m[[17.99, 10.38], [20.57, 17.77], [19.69, 21.25], [11.42, 20.38], [20.29, 14.34], [12.45, 15.7], [18.25, 19.98], [13.71, 20.83], [13.0, 21.82], [12.46, 24.04], [16.02, 23.24], [15.78, 17.89], [19.17, 24.8], [15.85, 23.95], [13.73, 22.61], [14.54, 27.54], [14.68, 20.13], [16.13, 20.68], [19.81, 22.15], [13.54, 14.36], [13.08, 15.71], [9.504, 12.44], [15.34, 14.26], [21.16, 23.04], [16.65, 21.38], [17.14, 16.4], [14.58, 21.53], [18.61, 20.25], [15.3, 25.27], [17.57, 15.05], [18.63, 25.11], [11.84, 18.7]]\u001b[39;49m\u001b[39m\\'\u001b[39;49;00m\u001b[39m\\n\u001b[39;49;00m\u001b[39mecho $data\u001b[39;49m\u001b[39m\\n\u001b[39;49;00m\u001b[39m\\n\u001b[39;49;00m\u001b[39mcurl -d \u001b[39;49m\u001b[39m\"\u001b[39;49m\u001b[39m{\u001b[39;49m\u001b[39m\\\\\u001b[39;49;00m\u001b[39m\"\u001b[39;49m\u001b[39minstances\u001b[39;49m\u001b[39m\\\\\u001b[39;49;00m\u001b[39m\"\u001b[39;49m\u001b[39m: $data}\u001b[39;49m\u001b[39m\"\u001b[39;49m\u001b[39m -H \u001b[39;49m\u001b[39m\\'\u001b[39;49;00m\u001b[39mContent-Type: application/json\u001b[39;49m\u001b[39m\\'\u001b[39;49;00m\u001b[39m 127.0.0.1:5001/invocations\u001b[39;49m\u001b[39m\\n\u001b[39;49;00m\u001b[39m'\u001b[39;49m)\n",
      "File \u001b[0;32m~/Desktop/assignment_repo/tasks/mlops-assignment/lib/python3.10/site-packages/IPython/core/interactiveshell.py:2478\u001b[0m, in \u001b[0;36mInteractiveShell.run_cell_magic\u001b[0;34m(self, magic_name, line, cell)\u001b[0m\n\u001b[1;32m   2476\u001b[0m \u001b[39mwith\u001b[39;00m \u001b[39mself\u001b[39m\u001b[39m.\u001b[39mbuiltin_trap:\n\u001b[1;32m   2477\u001b[0m     args \u001b[39m=\u001b[39m (magic_arg_s, cell)\n\u001b[0;32m-> 2478\u001b[0m     result \u001b[39m=\u001b[39m fn(\u001b[39m*\u001b[39;49margs, \u001b[39m*\u001b[39;49m\u001b[39m*\u001b[39;49mkwargs)\n\u001b[1;32m   2480\u001b[0m \u001b[39m# The code below prevents the output from being displayed\u001b[39;00m\n\u001b[1;32m   2481\u001b[0m \u001b[39m# when using magics with decodator @output_can_be_silenced\u001b[39;00m\n\u001b[1;32m   2482\u001b[0m \u001b[39m# when the last Python token in the expression is a ';'.\u001b[39;00m\n\u001b[1;32m   2483\u001b[0m \u001b[39mif\u001b[39;00m \u001b[39mgetattr\u001b[39m(fn, magic\u001b[39m.\u001b[39mMAGIC_OUTPUT_CAN_BE_SILENCED, \u001b[39mFalse\u001b[39;00m):\n",
      "File \u001b[0;32m~/Desktop/assignment_repo/tasks/mlops-assignment/lib/python3.10/site-packages/IPython/core/magics/script.py:154\u001b[0m, in \u001b[0;36mScriptMagics._make_script_magic.<locals>.named_script_magic\u001b[0;34m(line, cell)\u001b[0m\n\u001b[1;32m    152\u001b[0m \u001b[39melse\u001b[39;00m:\n\u001b[1;32m    153\u001b[0m     line \u001b[39m=\u001b[39m script\n\u001b[0;32m--> 154\u001b[0m \u001b[39mreturn\u001b[39;00m \u001b[39mself\u001b[39;49m\u001b[39m.\u001b[39;49mshebang(line, cell)\n",
      "File \u001b[0;32m~/Desktop/assignment_repo/tasks/mlops-assignment/lib/python3.10/site-packages/IPython/core/magics/script.py:314\u001b[0m, in \u001b[0;36mScriptMagics.shebang\u001b[0;34m(self, line, cell)\u001b[0m\n\u001b[1;32m    309\u001b[0m \u001b[39mif\u001b[39;00m args\u001b[39m.\u001b[39mraise_error \u001b[39mand\u001b[39;00m p\u001b[39m.\u001b[39mreturncode \u001b[39m!=\u001b[39m \u001b[39m0\u001b[39m:\n\u001b[1;32m    310\u001b[0m     \u001b[39m# If we get here and p.returncode is still None, we must have\u001b[39;00m\n\u001b[1;32m    311\u001b[0m     \u001b[39m# killed it but not yet seen its return code. We don't wait for it,\u001b[39;00m\n\u001b[1;32m    312\u001b[0m     \u001b[39m# in case it's stuck in uninterruptible sleep. -9 = SIGKILL\u001b[39;00m\n\u001b[1;32m    313\u001b[0m     rc \u001b[39m=\u001b[39m p\u001b[39m.\u001b[39mreturncode \u001b[39mor\u001b[39;00m \u001b[39m-\u001b[39m\u001b[39m9\u001b[39m\n\u001b[0;32m--> 314\u001b[0m     \u001b[39mraise\u001b[39;00m CalledProcessError(rc, cell)\n",
      "\u001b[0;31mCalledProcessError\u001b[0m: Command 'b'data=\\'[[17.99, 10.38], [20.57, 17.77], [19.69, 21.25], [11.42, 20.38], [20.29, 14.34], [12.45, 15.7], [18.25, 19.98], [13.71, 20.83], [13.0, 21.82], [12.46, 24.04], [16.02, 23.24], [15.78, 17.89], [19.17, 24.8], [15.85, 23.95], [13.73, 22.61], [14.54, 27.54], [14.68, 20.13], [16.13, 20.68], [19.81, 22.15], [13.54, 14.36], [13.08, 15.71], [9.504, 12.44], [15.34, 14.26], [21.16, 23.04], [16.65, 21.38], [17.14, 16.4], [14.58, 21.53], [18.61, 20.25], [15.3, 25.27], [17.57, 15.05], [18.63, 25.11], [11.84, 18.7]]\\'\\necho $data\\n\\ncurl -d \"{\\\\\"instances\\\\\": $data}\" -H \\'Content-Type: application/json\\' 127.0.0.1:5001/invocations\\n'' returned non-zero exit status 7."
     ]
    }
   ],
   "source": [
    "%%bash\n",
    "data='[[17.99, 10.38], [20.57, 17.77], [19.69, 21.25], [11.42, 20.38], [20.29, 14.34], [12.45, 15.7], [18.25, 19.98], [13.71, 20.83], [13.0, 21.82], [12.46, 24.04], [16.02, 23.24], [15.78, 17.89], [19.17, 24.8], [15.85, 23.95], [13.73, 22.61], [14.54, 27.54], [14.68, 20.13], [16.13, 20.68], [19.81, 22.15], [13.54, 14.36], [13.08, 15.71], [9.504, 12.44], [15.34, 14.26], [21.16, 23.04], [16.65, 21.38], [17.14, 16.4], [14.58, 21.53], [18.61, 20.25], [15.3, 25.27], [17.57, 15.05], [18.63, 25.11], [11.84, 18.7]]'\n",
    "echo $data\n",
    "\n",
    "curl -d \"{\\\"instances\\\": $data}\" -H 'Content-Type: application/json' 127.0.0.1:5001/invocations"
   ]
  },
  {
   "cell_type": "code",
   "execution_count": 47,
   "metadata": {},
   "outputs": [
    {
     "name": "stdout",
     "output_type": "stream",
     "text": [
      "[[17.99, 10.38], [20.57, 17.77], [19.69, 21.25], [11.42, 20.38], [20.29, 14.34], [12.45, 15.7], [18.25, 19.98], [13.71, 20.83], [13.0, 21.82], [12.46, 24.04], [16.02, 23.24], [15.78, 17.89], [19.17, 24.8], [15.85, 23.95], [13.73, 22.61], [14.54, 27.54], [14.68, 20.13], [16.13, 20.68], [19.81, 22.15], [13.54, 14.36], [13.08, 15.71], [9.504, 12.44], [15.34, 14.26], [21.16, 23.04], [16.65, 21.38], [17.14, 16.4], [14.58, 21.53], [18.61, 20.25], [15.3, 25.27], [17.57, 15.05], [18.63, 25.11], [11.84, 18.7]]\n"
     ]
    },
    {
     "name": "stderr",
     "output_type": "stream",
     "text": [
      "  % Total    % Received % Xferd  Average Speed   Time    Time     Time  Current\n",
      "                                 Dload  Upload   Total   Spent    Left  Speed\n",
      "  0     0    0     0    0     0      0      0 --:--:-- --:--:-- --:--:--     0\n",
      "curl: (7) Failed to connect to 127.0.0.1 port 5002 after 0 ms: Couldn't connect to server\n"
     ]
    },
    {
     "ename": "CalledProcessError",
     "evalue": "Command 'b'data=\\'[[17.99, 10.38], [20.57, 17.77], [19.69, 21.25], [11.42, 20.38], [20.29, 14.34], [12.45, 15.7], [18.25, 19.98], [13.71, 20.83], [13.0, 21.82], [12.46, 24.04], [16.02, 23.24], [15.78, 17.89], [19.17, 24.8], [15.85, 23.95], [13.73, 22.61], [14.54, 27.54], [14.68, 20.13], [16.13, 20.68], [19.81, 22.15], [13.54, 14.36], [13.08, 15.71], [9.504, 12.44], [15.34, 14.26], [21.16, 23.04], [16.65, 21.38], [17.14, 16.4], [14.58, 21.53], [18.61, 20.25], [15.3, 25.27], [17.57, 15.05], [18.63, 25.11], [11.84, 18.7]]\\'\\ncolumns=\\'[\"temp\",\"casual\"]\\'\\necho $data\\n\\ncurl -d \"{\\\\\"dataframe_split\\\\\":{\\\\\"columns\\\\\":[\\\\\"temp\\\\\",\\\\\"casual\\\\\"],\\\\\"data\\\\\": $data}}\" -H \\'Content-Type: application/json\\' 127.0.0.1:5002/invocations\\n'' returned non-zero exit status 7.",
     "output_type": "error",
     "traceback": [
      "\u001b[0;31m---------------------------------------------------------------------------\u001b[0m",
      "\u001b[0;31mCalledProcessError\u001b[0m                        Traceback (most recent call last)",
      "Cell \u001b[0;32mIn[47], line 1\u001b[0m\n\u001b[0;32m----> 1\u001b[0m get_ipython()\u001b[39m.\u001b[39;49mrun_cell_magic(\u001b[39m'\u001b[39;49m\u001b[39mbash\u001b[39;49m\u001b[39m'\u001b[39;49m, \u001b[39m'\u001b[39;49m\u001b[39m'\u001b[39;49m, \u001b[39m'\u001b[39;49m\u001b[39mdata=\u001b[39;49m\u001b[39m\\'\u001b[39;49;00m\u001b[39m[[17.99, 10.38], [20.57, 17.77], [19.69, 21.25], [11.42, 20.38], [20.29, 14.34], [12.45, 15.7], [18.25, 19.98], [13.71, 20.83], [13.0, 21.82], [12.46, 24.04], [16.02, 23.24], [15.78, 17.89], [19.17, 24.8], [15.85, 23.95], [13.73, 22.61], [14.54, 27.54], [14.68, 20.13], [16.13, 20.68], [19.81, 22.15], [13.54, 14.36], [13.08, 15.71], [9.504, 12.44], [15.34, 14.26], [21.16, 23.04], [16.65, 21.38], [17.14, 16.4], [14.58, 21.53], [18.61, 20.25], [15.3, 25.27], [17.57, 15.05], [18.63, 25.11], [11.84, 18.7]]\u001b[39;49m\u001b[39m\\'\u001b[39;49;00m\u001b[39m\\n\u001b[39;49;00m\u001b[39mcolumns=\u001b[39;49m\u001b[39m\\'\u001b[39;49;00m\u001b[39m[\u001b[39;49m\u001b[39m\"\u001b[39;49m\u001b[39mtemp\u001b[39;49m\u001b[39m\"\u001b[39;49m\u001b[39m,\u001b[39;49m\u001b[39m\"\u001b[39;49m\u001b[39mcasual\u001b[39;49m\u001b[39m\"\u001b[39;49m\u001b[39m]\u001b[39;49m\u001b[39m\\'\u001b[39;49;00m\u001b[39m\\n\u001b[39;49;00m\u001b[39mecho $data\u001b[39;49m\u001b[39m\\n\u001b[39;49;00m\u001b[39m\\n\u001b[39;49;00m\u001b[39mcurl -d \u001b[39;49m\u001b[39m\"\u001b[39;49m\u001b[39m{\u001b[39;49m\u001b[39m\\\\\u001b[39;49;00m\u001b[39m\"\u001b[39;49m\u001b[39mdataframe_split\u001b[39;49m\u001b[39m\\\\\u001b[39;49;00m\u001b[39m\"\u001b[39;49m\u001b[39m:\u001b[39;49m\u001b[39m{\u001b[39;49m\u001b[39m\\\\\u001b[39;49;00m\u001b[39m\"\u001b[39;49m\u001b[39mcolumns\u001b[39;49m\u001b[39m\\\\\u001b[39;49;00m\u001b[39m\"\u001b[39;49m\u001b[39m:[\u001b[39;49m\u001b[39m\\\\\u001b[39;49;00m\u001b[39m\"\u001b[39;49m\u001b[39mtemp\u001b[39;49m\u001b[39m\\\\\u001b[39;49;00m\u001b[39m\"\u001b[39;49m\u001b[39m,\u001b[39;49m\u001b[39m\\\\\u001b[39;49;00m\u001b[39m\"\u001b[39;49m\u001b[39mcasual\u001b[39;49m\u001b[39m\\\\\u001b[39;49;00m\u001b[39m\"\u001b[39;49m\u001b[39m],\u001b[39;49m\u001b[39m\\\\\u001b[39;49;00m\u001b[39m\"\u001b[39;49m\u001b[39mdata\u001b[39;49m\u001b[39m\\\\\u001b[39;49;00m\u001b[39m\"\u001b[39;49m\u001b[39m: $data}}\u001b[39;49m\u001b[39m\"\u001b[39;49m\u001b[39m -H \u001b[39;49m\u001b[39m\\'\u001b[39;49;00m\u001b[39mContent-Type: application/json\u001b[39;49m\u001b[39m\\'\u001b[39;49;00m\u001b[39m 127.0.0.1:5002/invocations\u001b[39;49m\u001b[39m\\n\u001b[39;49;00m\u001b[39m'\u001b[39;49m)\n",
      "File \u001b[0;32m~/Desktop/assignment_repo/tasks/mlops-assignment/lib/python3.10/site-packages/IPython/core/interactiveshell.py:2478\u001b[0m, in \u001b[0;36mInteractiveShell.run_cell_magic\u001b[0;34m(self, magic_name, line, cell)\u001b[0m\n\u001b[1;32m   2476\u001b[0m \u001b[39mwith\u001b[39;00m \u001b[39mself\u001b[39m\u001b[39m.\u001b[39mbuiltin_trap:\n\u001b[1;32m   2477\u001b[0m     args \u001b[39m=\u001b[39m (magic_arg_s, cell)\n\u001b[0;32m-> 2478\u001b[0m     result \u001b[39m=\u001b[39m fn(\u001b[39m*\u001b[39;49margs, \u001b[39m*\u001b[39;49m\u001b[39m*\u001b[39;49mkwargs)\n\u001b[1;32m   2480\u001b[0m \u001b[39m# The code below prevents the output from being displayed\u001b[39;00m\n\u001b[1;32m   2481\u001b[0m \u001b[39m# when using magics with decodator @output_can_be_silenced\u001b[39;00m\n\u001b[1;32m   2482\u001b[0m \u001b[39m# when the last Python token in the expression is a ';'.\u001b[39;00m\n\u001b[1;32m   2483\u001b[0m \u001b[39mif\u001b[39;00m \u001b[39mgetattr\u001b[39m(fn, magic\u001b[39m.\u001b[39mMAGIC_OUTPUT_CAN_BE_SILENCED, \u001b[39mFalse\u001b[39;00m):\n",
      "File \u001b[0;32m~/Desktop/assignment_repo/tasks/mlops-assignment/lib/python3.10/site-packages/IPython/core/magics/script.py:154\u001b[0m, in \u001b[0;36mScriptMagics._make_script_magic.<locals>.named_script_magic\u001b[0;34m(line, cell)\u001b[0m\n\u001b[1;32m    152\u001b[0m \u001b[39melse\u001b[39;00m:\n\u001b[1;32m    153\u001b[0m     line \u001b[39m=\u001b[39m script\n\u001b[0;32m--> 154\u001b[0m \u001b[39mreturn\u001b[39;00m \u001b[39mself\u001b[39;49m\u001b[39m.\u001b[39;49mshebang(line, cell)\n",
      "File \u001b[0;32m~/Desktop/assignment_repo/tasks/mlops-assignment/lib/python3.10/site-packages/IPython/core/magics/script.py:314\u001b[0m, in \u001b[0;36mScriptMagics.shebang\u001b[0;34m(self, line, cell)\u001b[0m\n\u001b[1;32m    309\u001b[0m \u001b[39mif\u001b[39;00m args\u001b[39m.\u001b[39mraise_error \u001b[39mand\u001b[39;00m p\u001b[39m.\u001b[39mreturncode \u001b[39m!=\u001b[39m \u001b[39m0\u001b[39m:\n\u001b[1;32m    310\u001b[0m     \u001b[39m# If we get here and p.returncode is still None, we must have\u001b[39;00m\n\u001b[1;32m    311\u001b[0m     \u001b[39m# killed it but not yet seen its return code. We don't wait for it,\u001b[39;00m\n\u001b[1;32m    312\u001b[0m     \u001b[39m# in case it's stuck in uninterruptible sleep. -9 = SIGKILL\u001b[39;00m\n\u001b[1;32m    313\u001b[0m     rc \u001b[39m=\u001b[39m p\u001b[39m.\u001b[39mreturncode \u001b[39mor\u001b[39;00m \u001b[39m-\u001b[39m\u001b[39m9\u001b[39m\n\u001b[0;32m--> 314\u001b[0m     \u001b[39mraise\u001b[39;00m CalledProcessError(rc, cell)\n",
      "\u001b[0;31mCalledProcessError\u001b[0m: Command 'b'data=\\'[[17.99, 10.38], [20.57, 17.77], [19.69, 21.25], [11.42, 20.38], [20.29, 14.34], [12.45, 15.7], [18.25, 19.98], [13.71, 20.83], [13.0, 21.82], [12.46, 24.04], [16.02, 23.24], [15.78, 17.89], [19.17, 24.8], [15.85, 23.95], [13.73, 22.61], [14.54, 27.54], [14.68, 20.13], [16.13, 20.68], [19.81, 22.15], [13.54, 14.36], [13.08, 15.71], [9.504, 12.44], [15.34, 14.26], [21.16, 23.04], [16.65, 21.38], [17.14, 16.4], [14.58, 21.53], [18.61, 20.25], [15.3, 25.27], [17.57, 15.05], [18.63, 25.11], [11.84, 18.7]]\\'\\ncolumns=\\'[\"temp\",\"casual\"]\\'\\necho $data\\n\\ncurl -d \"{\\\\\"dataframe_split\\\\\":{\\\\\"columns\\\\\":[\\\\\"temp\\\\\",\\\\\"casual\\\\\"],\\\\\"data\\\\\": $data}}\" -H \\'Content-Type: application/json\\' 127.0.0.1:5002/invocations\\n'' returned non-zero exit status 7."
     ]
    }
   ],
   "source": [
    "%%bash\n",
    "data='[[17.99, 10.38], [20.57, 17.77], [19.69, 21.25], [11.42, 20.38], [20.29, 14.34], [12.45, 15.7], [18.25, 19.98], [13.71, 20.83], [13.0, 21.82], [12.46, 24.04], [16.02, 23.24], [15.78, 17.89], [19.17, 24.8], [15.85, 23.95], [13.73, 22.61], [14.54, 27.54], [14.68, 20.13], [16.13, 20.68], [19.81, 22.15], [13.54, 14.36], [13.08, 15.71], [9.504, 12.44], [15.34, 14.26], [21.16, 23.04], [16.65, 21.38], [17.14, 16.4], [14.58, 21.53], [18.61, 20.25], [15.3, 25.27], [17.57, 15.05], [18.63, 25.11], [11.84, 18.7]]'\n",
    "columns='[\"temp\",\"casual\"]'\n",
    "echo $data\n",
    "\n",
    "curl -d \"{\\\"dataframe_split\\\":{\\\"columns\\\":[\\\"temp\\\",\\\"casual\\\"],\\\"data\\\": $data}}\" -H 'Content-Type: application/json' 127.0.0.1:5001/invocations"
   ]
  },
  {
   "attachments": {},
   "cell_type": "markdown",
   "metadata": {},
   "source": [
    "### MLflow Dashboard"
   ]
  },
  {
   "attachments": {},
   "cell_type": "markdown",
   "metadata": {},
   "source": [
    "![alternative text](/home/muhammadsafi/Desktop/assignment_repo/tasks/3.4A_and_3.4B_assignment/3.4A&B.png)"
   ]
  },
  {
   "cell_type": "markdown",
   "metadata": {},
   "source": []
  }
 ],
 "metadata": {
  "kernelspec": {
   "display_name": "mlops-assignment",
   "language": "python",
   "name": "python3"
  },
  "language_info": {
   "codemirror_mode": {
    "name": "ipython",
    "version": 3
   },
   "file_extension": ".py",
   "mimetype": "text/x-python",
   "name": "python",
   "nbconvert_exporter": "python",
   "pygments_lexer": "ipython3",
   "version": "3.10.6"
  },
  "orig_nbformat": 4
 },
 "nbformat": 4,
 "nbformat_minor": 2
}
