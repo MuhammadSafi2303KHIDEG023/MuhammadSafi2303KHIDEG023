{
 "cells": [
  {
   "cell_type": "code",
   "execution_count": 2,
   "metadata": {},
   "outputs": [
    {
     "name": "stdout",
     "output_type": "stream",
     "text": [
      "/home/muhammadsafi/anaconda3/bin/python\n"
     ]
    }
   ],
   "source": [
    "!python -c \"import sys; print(sys.executable)\""
   ]
  },
  {
   "cell_type": "code",
   "execution_count": 1,
   "metadata": {},
   "outputs": [],
   "source": [
    "import pandas as pd"
   ]
  },
  {
   "cell_type": "code",
   "execution_count": 2,
   "metadata": {},
   "outputs": [
    {
     "data": {
      "text/plain": [
       "'2.0.0'"
      ]
     },
     "execution_count": 2,
     "metadata": {},
     "output_type": "execute_result"
    }
   ],
   "source": [
    "pd.__version__"
   ]
  },
  {
   "cell_type": "code",
   "execution_count": 3,
   "metadata": {},
   "outputs": [],
   "source": [
    "%%bash --bg\n",
    "\n",
    "mlflow server --host 0.0.0.0 \\\n",
    "    --port 5000 \\\n",
    "    --backend-store-uri sqlite:///mlflow.db \\\n",
    "    --default-artifact-root ./mlruns"
   ]
  },
  {
   "cell_type": "code",
   "execution_count": 4,
   "metadata": {},
   "outputs": [
    {
     "name": "stdout",
     "output_type": "stream",
     "text": [
      "name: basic_mlflow\n",
      "\n",
      "# this file is used to configure Python package dependencies.\n",
      "# it uses Anaconda, but it can be also alternatively configured to use pip.\n",
      "conda_env: conda.yaml\n",
      "\n",
      "# entry points can be ran using `mlflow run <project_name> -e <entry_point_name>\n",
      "entry_points:\n",
      "  download_data:\n",
      "    # you can run any command using MLFlow\n",
      "    command: \"bash download_data.sh\"\n",
      "  # MLproject file has to have main entry_point. It can be toggled without using -e option.\n",
      "  main:\n",
      "    # parameters is a key-value collection.\n",
      "    parameters:\n",
      "      file_name:\n",
      "        type: str\n",
      "        default: \"day.csv\"\n",
      "      max_k:\n",
      "        type: int\n",
      "        default: 10\n",
      "    command: \"python train.py {file_name} {max_k}\""
     ]
    }
   ],
   "source": [
    "%cat MLproject\n"
   ]
  },
  {
   "cell_type": "code",
   "execution_count": 5,
   "metadata": {},
   "outputs": [
    {
     "name": "stderr",
     "output_type": "stream",
     "text": [
      "2023/05/03 15:50:59 INFO mlflow.utils.conda: Conda environment mlflow-06da0cf272d5df6bef864f6179e2bdc8b537d6de already exists.\n",
      "2023/05/03 15:50:59 INFO mlflow.projects.utils: === Created directory /tmp/tmpcwuyjpx0 for downloading remote URIs passed to arguments of type 'path' ===\n",
      "2023/05/03 15:50:59 INFO mlflow.projects.backend.local: === Running command 'source /home/muhammadsafi/anaconda3/bin/../etc/profile.d/conda.sh && conda activate mlflow-06da0cf272d5df6bef864f6179e2bdc8b537d6de 1>&2 && bash download_data.sh' in run with ID 'ddddb8f4936043eaac70688dc51a7d66' === \n",
      "File ‘Bike-Sharing-Dataset.zip’ already there; not retrieving.\n",
      "\n"
     ]
    },
    {
     "name": "stdout",
     "output_type": "stream",
     "text": [
      "Archive:  Bike-Sharing-Dataset.zip\n"
     ]
    },
    {
     "name": "stderr",
     "output_type": "stream",
     "text": [
      "2023/05/03 15:51:00 INFO mlflow.projects: === Run (ID 'ddddb8f4936043eaac70688dc51a7d66') succeeded ===\n"
     ]
    }
   ],
   "source": [
    "%%bash\n",
    "source mlflow_env_vars.sh\n",
    "mlflow run .  -e download_data"
   ]
  },
  {
   "cell_type": "code",
   "execution_count": 6,
   "metadata": {},
   "outputs": [],
   "source": [
    "import sklearn\n"
   ]
  },
  {
   "cell_type": "code",
   "execution_count": 7,
   "metadata": {},
   "outputs": [
    {
     "data": {
      "text/plain": [
       "'1.1.3'"
      ]
     },
     "execution_count": 7,
     "metadata": {},
     "output_type": "execute_result"
    }
   ],
   "source": [
    "sklearn.__version__"
   ]
  },
  {
   "cell_type": "code",
   "execution_count": 8,
   "metadata": {},
   "outputs": [
    {
     "name": "stderr",
     "output_type": "stream",
     "text": [
      "2023/05/03 15:51:29 INFO mlflow.utils.conda: Conda environment mlflow-06da0cf272d5df6bef864f6179e2bdc8b537d6de already exists.\n",
      "2023/05/03 15:51:29 INFO mlflow.projects.utils: === Created directory /tmp/tmp914rs696 for downloading remote URIs passed to arguments of type 'path' ===\n",
      "2023/05/03 15:51:29 INFO mlflow.projects.backend.local: === Running command 'source /home/muhammadsafi/anaconda3/bin/../etc/profile.d/conda.sh && conda activate mlflow-06da0cf272d5df6bef864f6179e2bdc8b537d6de 1>&2 && python train.py day.csv 10' in run with ID '7ac0a5e2f9eb45a5ba48cadb96eddf4c' === \n",
      "/home/muhammadsafi/anaconda3/envs/mlflow-06da0cf272d5df6bef864f6179e2bdc8b537d6de/lib/python3.11/site-packages/_distutils_hack/__init__.py:33: UserWarning: Setuptools is replacing distutils.\n",
      "  warnings.warn(\"Setuptools is replacing distutils.\")\n",
      "Registered model 'sklearn_knn' already exists. Creating a new version of this model...\n",
      "2023/05/03 15:51:32 INFO mlflow.tracking._model_registry.client: Waiting up to 300 seconds for model version to finish creation. Model name: sklearn_knn, version 100\n",
      "Created version '100' of model 'sklearn_knn'.\n",
      "Registered model 'sklearn_knn' already exists. Creating a new version of this model...\n",
      "2023/05/03 15:51:33 INFO mlflow.tracking._model_registry.client: Waiting up to 300 seconds for model version to finish creation. Model name: sklearn_knn, version 101\n",
      "Created version '101' of model 'sklearn_knn'.\n",
      "Registered model 'sklearn_knn' already exists. Creating a new version of this model...\n",
      "2023/05/03 15:51:34 INFO mlflow.tracking._model_registry.client: Waiting up to 300 seconds for model version to finish creation. Model name: sklearn_knn, version 102\n",
      "Created version '102' of model 'sklearn_knn'.\n",
      "Registered model 'sklearn_knn' already exists. Creating a new version of this model...\n",
      "2023/05/03 15:51:36 INFO mlflow.tracking._model_registry.client: Waiting up to 300 seconds for model version to finish creation. Model name: sklearn_knn, version 103\n",
      "Created version '103' of model 'sklearn_knn'.\n",
      "Registered model 'sklearn_knn' already exists. Creating a new version of this model...\n",
      "2023/05/03 15:51:37 INFO mlflow.tracking._model_registry.client: Waiting up to 300 seconds for model version to finish creation. Model name: sklearn_knn, version 104\n",
      "Created version '104' of model 'sklearn_knn'.\n",
      "Registered model 'sklearn_knn' already exists. Creating a new version of this model...\n",
      "2023/05/03 15:51:38 INFO mlflow.tracking._model_registry.client: Waiting up to 300 seconds for model version to finish creation. Model name: sklearn_knn, version 105\n",
      "Created version '105' of model 'sklearn_knn'.\n",
      "Registered model 'sklearn_knn' already exists. Creating a new version of this model...\n",
      "2023/05/03 15:51:39 INFO mlflow.tracking._model_registry.client: Waiting up to 300 seconds for model version to finish creation. Model name: sklearn_knn, version 106\n",
      "Created version '106' of model 'sklearn_knn'.\n",
      "Registered model 'sklearn_knn' already exists. Creating a new version of this model...\n",
      "2023/05/03 15:51:41 INFO mlflow.tracking._model_registry.client: Waiting up to 300 seconds for model version to finish creation. Model name: sklearn_knn, version 107\n",
      "Created version '107' of model 'sklearn_knn'.\n",
      "Registered model 'sklearn_knn' already exists. Creating a new version of this model...\n",
      "2023/05/03 15:51:42 INFO mlflow.tracking._model_registry.client: Waiting up to 300 seconds for model version to finish creation. Model name: sklearn_knn, version 108\n",
      "Created version '108' of model 'sklearn_knn'.\n",
      "2023/05/03 15:51:42 INFO mlflow.projects: === Run (ID '7ac0a5e2f9eb45a5ba48cadb96eddf4c') succeeded ===\n"
     ]
    }
   ],
   "source": [
    "%%bash\n",
    "source mlflow_env_vars.sh\n",
    "mlflow run . \n"
   ]
  },
  {
   "cell_type": "code",
   "execution_count": 9,
   "metadata": {},
   "outputs": [
    {
     "name": "stderr",
     "output_type": "stream",
     "text": [
      "ls: cannot access 'mlruns/0/': No such file or directory\n",
      "cat: mlruns/0//artifacts/knn/MLmodel: No such file or directory\n"
     ]
    },
    {
     "ename": "CalledProcessError",
     "evalue": "Command 'b'last_model_path=$(ls -tr mlruns/0/ | tail -1)\\ncat mlruns/0/$last_model_path/artifacts/knn/MLmodel\\n'' returned non-zero exit status 1.",
     "output_type": "error",
     "traceback": [
      "\u001b[0;31m---------------------------------------------------------------------------\u001b[0m",
      "\u001b[0;31mCalledProcessError\u001b[0m                        Traceback (most recent call last)",
      "Cell \u001b[0;32mIn[9], line 1\u001b[0m\n\u001b[0;32m----> 1\u001b[0m get_ipython()\u001b[39m.\u001b[39;49mrun_cell_magic(\u001b[39m'\u001b[39;49m\u001b[39mbash\u001b[39;49m\u001b[39m'\u001b[39;49m, \u001b[39m'\u001b[39;49m\u001b[39m'\u001b[39;49m, \u001b[39m'\u001b[39;49m\u001b[39mlast_model_path=$(ls -tr mlruns/0/ | tail -1)\u001b[39;49m\u001b[39m\\n\u001b[39;49;00m\u001b[39mcat mlruns/0/$last_model_path/artifacts/knn/MLmodel\u001b[39;49m\u001b[39m\\n\u001b[39;49;00m\u001b[39m'\u001b[39;49m)\n",
      "File \u001b[0;32m~/.local/lib/python3.10/site-packages/IPython/core/interactiveshell.py:2475\u001b[0m, in \u001b[0;36mInteractiveShell.run_cell_magic\u001b[0;34m(self, magic_name, line, cell)\u001b[0m\n\u001b[1;32m   2473\u001b[0m \u001b[39mwith\u001b[39;00m \u001b[39mself\u001b[39m\u001b[39m.\u001b[39mbuiltin_trap:\n\u001b[1;32m   2474\u001b[0m     args \u001b[39m=\u001b[39m (magic_arg_s, cell)\n\u001b[0;32m-> 2475\u001b[0m     result \u001b[39m=\u001b[39m fn(\u001b[39m*\u001b[39;49margs, \u001b[39m*\u001b[39;49m\u001b[39m*\u001b[39;49mkwargs)\n\u001b[1;32m   2477\u001b[0m \u001b[39m# The code below prevents the output from being displayed\u001b[39;00m\n\u001b[1;32m   2478\u001b[0m \u001b[39m# when using magics with decodator @output_can_be_silenced\u001b[39;00m\n\u001b[1;32m   2479\u001b[0m \u001b[39m# when the last Python token in the expression is a ';'.\u001b[39;00m\n\u001b[1;32m   2480\u001b[0m \u001b[39mif\u001b[39;00m \u001b[39mgetattr\u001b[39m(fn, magic\u001b[39m.\u001b[39mMAGIC_OUTPUT_CAN_BE_SILENCED, \u001b[39mFalse\u001b[39;00m):\n",
      "File \u001b[0;32m~/.local/lib/python3.10/site-packages/IPython/core/magics/script.py:153\u001b[0m, in \u001b[0;36mScriptMagics._make_script_magic.<locals>.named_script_magic\u001b[0;34m(line, cell)\u001b[0m\n\u001b[1;32m    151\u001b[0m \u001b[39melse\u001b[39;00m:\n\u001b[1;32m    152\u001b[0m     line \u001b[39m=\u001b[39m script\n\u001b[0;32m--> 153\u001b[0m \u001b[39mreturn\u001b[39;00m \u001b[39mself\u001b[39;49m\u001b[39m.\u001b[39;49mshebang(line, cell)\n",
      "File \u001b[0;32m~/.local/lib/python3.10/site-packages/IPython/core/magics/script.py:305\u001b[0m, in \u001b[0;36mScriptMagics.shebang\u001b[0;34m(self, line, cell)\u001b[0m\n\u001b[1;32m    300\u001b[0m \u001b[39mif\u001b[39;00m args\u001b[39m.\u001b[39mraise_error \u001b[39mand\u001b[39;00m p\u001b[39m.\u001b[39mreturncode \u001b[39m!=\u001b[39m \u001b[39m0\u001b[39m:\n\u001b[1;32m    301\u001b[0m     \u001b[39m# If we get here and p.returncode is still None, we must have\u001b[39;00m\n\u001b[1;32m    302\u001b[0m     \u001b[39m# killed it but not yet seen its return code. We don't wait for it,\u001b[39;00m\n\u001b[1;32m    303\u001b[0m     \u001b[39m# in case it's stuck in uninterruptible sleep. -9 = SIGKILL\u001b[39;00m\n\u001b[1;32m    304\u001b[0m     rc \u001b[39m=\u001b[39m p\u001b[39m.\u001b[39mreturncode \u001b[39mor\u001b[39;00m \u001b[39m-\u001b[39m\u001b[39m9\u001b[39m\n\u001b[0;32m--> 305\u001b[0m     \u001b[39mraise\u001b[39;00m CalledProcessError(rc, cell)\n",
      "\u001b[0;31mCalledProcessError\u001b[0m: Command 'b'last_model_path=$(ls -tr mlruns/0/ | tail -1)\\ncat mlruns/0/$last_model_path/artifacts/knn/MLmodel\\n'' returned non-zero exit status 1."
     ]
    }
   ],
   "source": [
    "%%bash\n",
    "last_model_path=$(ls -tr mlruns/0/ | tail -1)\n",
    "cat mlruns/0/$last_model_path/artifacts/knn/MLmodel\n"
   ]
  },
  {
   "cell_type": "code",
   "execution_count": null,
   "metadata": {},
   "outputs": [],
   "source": []
  }
 ],
 "metadata": {
  "kernelspec": {
   "display_name": "mlops-assignment",
   "language": "python",
   "name": "python3"
  },
  "language_info": {
   "codemirror_mode": {
    "name": "ipython",
    "version": 3
   },
   "file_extension": ".py",
   "mimetype": "text/x-python",
   "name": "python",
   "nbconvert_exporter": "python",
   "pygments_lexer": "ipython3",
   "version": "3.10.9"
  },
  "orig_nbformat": 4
 },
 "nbformat": 4,
 "nbformat_minor": 2
}
